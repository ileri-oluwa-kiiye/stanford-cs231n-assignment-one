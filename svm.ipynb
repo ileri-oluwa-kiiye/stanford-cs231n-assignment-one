{
  "nbformat": 4,
  "nbformat_minor": 0,
  "metadata": {
    "colab": {
      "provenance": []
    },
    "kernelspec": {
      "name": "python3",
      "display_name": "Python 3"
    },
    "language_info": {
      "name": "python"
    }
  },
  "cells": [
    {
      "cell_type": "code",
      "execution_count": null,
      "metadata": {
        "colab": {
          "base_uri": "https://localhost:8080/"
        },
        "id": "fFQQppDqTcMs",
        "outputId": "1247dcb6-4f39-4016-d8ac-05eeae34ad76"
      },
      "outputs": [
        {
          "output_type": "stream",
          "name": "stdout",
          "text": [
            "Mounted at /content/drive\n",
            "/content/drive/My Drive/Colab Notebooks/cs231n/assignment1/cs231n/datasets\n",
            "/content/drive/My Drive/Colab Notebooks/cs231n/assignment1\n"
          ]
        }
      ],
      "source": [
        "from google.colab import drive\n",
        "drive.mount('/content/drive')\n",
        "\n",
        "FOLDERNAME = '/Colab Notebooks/cs231n/assignment1/'\n",
        "assert FOLDERNAME is not None, \"[!] Enter the foldername.\"\n",
        "\n",
        "#this allows the colab VM to load the python files within it\n",
        "import sys\n",
        "sys.path.append('/content/drive/My Drive/{}'.format(FOLDERNAME))\n",
        "\n",
        "\n",
        "%cd /content/drive/My\\ Drive/$FOLDERNAME/cs231n/datasets/\n",
        "!bash get_datasets.sh\n",
        "%cd /content/drive/My\\ Drive/$FOLDERNAME"
      ]
    },
    {
      "cell_type": "markdown",
      "source": [
        "# Multiclass Support Vector Machine\n",
        "\n",
        "    \n",
        "- Implement a fully-vectorized **loss function** for the SVM\n",
        "- Implement the fully-vectorized expression for its **analytic gradient**\n",
        "- **Check my implementation** using numerical gradient\n",
        "- Use a validation set to **tune the learning rate and regularization** strength\n",
        "- **Optimize** the loss function with **SGD**\n",
        "- **Visualize** the final learned weights\n"
      ],
      "metadata": {
        "id": "niqmFbWHZh4d"
      }
    },
    {
      "cell_type": "code",
      "source": [
        "import numpy as np\n",
        "import random\n",
        "from cs231n.data_utils import load_CIFAR10\n",
        "import matplotlib.pyplot as plt\n",
        "\n",
        "%matplotlib inline\n",
        "plt.rcParams['figure.figsize'] = (10.0, 8.0) # set default size of plots\n",
        "plt.rcParams['image.interpolation'] = 'nearest'\n",
        "plt.rcParams['image.cmap'] = 'gray'"
      ],
      "metadata": {
        "id": "Pnl9g5kDZstQ"
      },
      "execution_count": null,
      "outputs": []
    },
    {
      "cell_type": "code",
      "source": [
        "def get_cifar10_dataset(num_training=49000, num_validation=1000, num_test=1000, num_dev=500):\n",
        "  cifar_10_data = 'cs231n/datasets/cifar-10-batches-py'\n",
        "\n",
        "  try:\n",
        "    del X_train, y_train\n",
        "    del X_test, y_test\n",
        "    print('Cleared previously existing data')\n",
        "  except:\n",
        "    pass\n",
        "\n",
        "  X_train, y_train, X_test, y_test = load_CIFAR10(cifar_10_data)\n",
        "\n",
        "  mask = list(range(num_training, num_training + num_validation))\n",
        "  X_val = X_train[mask]\n",
        "  y_val = y_train[mask]\n",
        "  mask = list(range(num_training))\n",
        "  X_train = X_train[mask]\n",
        "  y_train = y_train[mask]\n",
        "  mask = list(range(num_test))\n",
        "  X_test = X_test[mask]\n",
        "  y_test = y_test[mask]\n",
        "  mask = np.random.choice(num_training, num_dev, replace=False)\n",
        "  X_dev = X_train[mask]\n",
        "  y_dev = y_train[mask]\n",
        "\n",
        "  #Preprocess; reshape the input data into rows\n",
        "  X_train = np.reshape(X_train, (X_train.shape[0], -1))\n",
        "  X_test = np.reshape(X_test, (X_test.shape[0], -1))\n",
        "  X_val = np.reshape(X_val, (X_val.shape[0], -1))\n",
        "  X_dev = np.reshape(X_dev, (X_dev.shape[0], -1))\n",
        "\n",
        "  #Get the mean image and subtract from dataset to normalize\n",
        "  mean_image = np.mean(X_train, axis=0)\n",
        "  X_train -= mean_image\n",
        "  X_test -= mean_image\n",
        "  X_val -= mean_image\n",
        "  X_dev -= mean_image\n",
        "\n",
        "  # Add a bias term to each dataset (as a column of ones)\n",
        "  X_train = np.hstack([X_train, np.ones((X_train.shape[0], 1))])\n",
        "  X_test = np.hstack([X_test, np.ones((X_test.shape[0], 1))])\n",
        "  X_val = np.hstack([X_val, np.ones((X_val.shape[0], 1))])\n",
        "  X_dev = np.hstack([X_dev, np.ones((X_dev.shape[0], 1))])\n",
        "\n",
        "\n",
        "  return X_train, y_train, X_test, y_test, X_val, y_val, X_dev, y_dev\n",
        "\n",
        "# Use the above function to get our data.\n",
        "X_train, y_train, X_val, y_val, X_test, y_test, X_dev, y_dev = get_cifar10_dataset()\n",
        "print('Train data shape: ', X_train.shape)\n",
        "print('Train labels shape: ', y_train.shape)\n",
        "print('Validation data shape: ', X_val.shape)\n",
        "print('Validation labels shape: ', y_val.shape)\n",
        "print('Test data shape: ', X_test.shape)\n",
        "print('Test labels shape: ', y_test.shape)\n",
        "print('dev data shape: ', X_dev.shape)\n",
        "print('dev labels shape: ', y_dev.shape)"
      ],
      "metadata": {
        "colab": {
          "base_uri": "https://localhost:8080/"
        },
        "id": "JQy5GzTgZ6l4",
        "outputId": "4d892eb8-84df-40ae-bac1-eecca466104d"
      },
      "execution_count": 16,
      "outputs": [
        {
          "output_type": "stream",
          "name": "stdout",
          "text": [
            "Train data shape:  (49000, 3073)\n",
            "Train labels shape:  (49000,)\n",
            "Validation data shape:  (1000, 3073)\n",
            "Validation labels shape:  (1000,)\n",
            "Test data shape:  (1000, 3073)\n",
            "Test labels shape:  (1000,)\n",
            "dev data shape:  (500, 3073)\n",
            "dev labels shape:  (500,)\n"
          ]
        }
      ]
    },
    {
      "cell_type": "markdown",
      "source": [
        "SVM Classifier"
      ],
      "metadata": {
        "id": "k1yUKzncg3eN"
      }
    },
    {
      "cell_type": "code",
      "source": [
        "def svm_loss_naive(W, X, y, reg):\n",
        "  dW = np.zeros_like(W)\n",
        "  loss = 0.0\n",
        "  num_train = X.shape[0]\n",
        "  num_classes = W.shape[1]\n",
        "\n",
        "  for i in range(num_train):\n",
        "    scores = X[i].dot(W)\n",
        "    correct_class_score = scores[y[i]]\n",
        "    for j in range(num_classes):\n",
        "      if j == y[i]:\n",
        "        continue\n",
        "      margin = scores[j] - correct_class_score + 1\n",
        "      if margin > 0:\n",
        "        loss += margin\n",
        "        dW[:, j] += X[i]\n",
        "        dW[:, y[i]] -= X[i]\n",
        "\n",
        "  loss/= num_train\n",
        "  dW /= num_train\n",
        "\n",
        "  #Add regularization\n",
        "  loss += 0.5 * reg * np.sum(W * W)\n",
        "  dW += reg * W\n",
        "  return loss, dW\n"
      ],
      "metadata": {
        "id": "i1BZFfqvisTK"
      },
      "execution_count": 17,
      "outputs": []
    },
    {
      "cell_type": "code",
      "source": [
        "# generate a random SVM weight matrix of small numbers\n",
        "W = np.random.randn(3073, 10) * 0.0001\n",
        "\n",
        "loss, grad = svm_loss_naive(W, X_dev, y_dev, 0.000005)\n",
        "print('loss: %f' % (loss,))"
      ],
      "metadata": {
        "colab": {
          "base_uri": "https://localhost:8080/"
        },
        "id": "R3pObyPflkPt",
        "outputId": "3baff7fd-19b3-4942-d93c-0697637ae0f5"
      },
      "execution_count": 18,
      "outputs": [
        {
          "output_type": "stream",
          "name": "stdout",
          "text": [
            "loss: 9.143301\n"
          ]
        }
      ]
    },
    {
      "cell_type": "code",
      "source": [
        "# [Imported from the stanford notebook]\n",
        "\n",
        "# Once you've implemented the gradient, recompute it with the code below\n",
        "# and gradient check it with the function we provided for you\n",
        "\n",
        "# Compute the loss and its gradient at W.\n",
        "loss, grad = svm_loss_naive(W, X_dev, y_dev, 0.0)\n",
        "\n",
        "# Numerically compute the gradient along several randomly chosen dimensions, and\n",
        "# compare them with your analytically computed gradient. The numbers should match\n",
        "# almost exactly along all dimensions.\n",
        "from cs231n.gradient_check import grad_check_sparse\n",
        "f = lambda w: svm_loss_naive(w, X_dev, y_dev, 0.0)[0]\n",
        "grad_numerical = grad_check_sparse(f, W, grad)\n",
        "\n",
        "# do the gradient check once again with regularization turned on\n",
        "# you didn't forget the regularization gradient did you?\n",
        "loss, grad = svm_loss_naive(W, X_dev, y_dev, 5e1)\n",
        "f = lambda w: svm_loss_naive(w, X_dev, y_dev, 5e1)[0]\n",
        "grad_numerical = grad_check_sparse(f, W, grad)"
      ],
      "metadata": {
        "colab": {
          "base_uri": "https://localhost:8080/"
        },
        "id": "JQCSYNcQnX5b",
        "outputId": "299c087e-9134-4268-d767-a5ce186c0d63"
      },
      "execution_count": 19,
      "outputs": [
        {
          "output_type": "stream",
          "name": "stdout",
          "text": [
            "numerical: -18.566654 analytic: -18.566654, relative error: 3.229304e-12\n",
            "numerical: -20.605790 analytic: -20.605790, relative error: 6.372915e-12\n",
            "numerical: -14.751068 analytic: -14.751068, relative error: 6.592155e-12\n",
            "numerical: -5.769399 analytic: -5.769399, relative error: 3.512011e-11\n",
            "numerical: 23.953412 analytic: 23.953412, relative error: 1.622298e-12\n",
            "numerical: -14.954063 analytic: -14.954063, relative error: 1.328104e-11\n",
            "numerical: -12.156900 analytic: -12.156900, relative error: 2.209717e-11\n",
            "numerical: 23.579528 analytic: 23.579528, relative error: 6.672546e-12\n",
            "numerical: -8.438746 analytic: -8.438746, relative error: 4.869709e-11\n",
            "numerical: 14.150901 analytic: 14.150901, relative error: 9.080309e-12\n",
            "numerical: -29.369009 analytic: -29.369009, relative error: 1.132274e-11\n",
            "numerical: 8.447068 analytic: 8.447068, relative error: 3.496999e-11\n",
            "numerical: -1.513496 analytic: -1.513496, relative error: 1.781071e-10\n",
            "numerical: -4.458710 analytic: -4.458710, relative error: 1.987645e-11\n",
            "numerical: 3.441420 analytic: 3.441420, relative error: 4.873320e-11\n",
            "numerical: -0.802668 analytic: -0.802668, relative error: 4.478582e-11\n",
            "numerical: 5.410014 analytic: 5.410014, relative error: 1.933138e-13\n",
            "numerical: -25.797539 analytic: -25.797539, relative error: 1.959343e-11\n",
            "numerical: -53.722050 analytic: -53.722050, relative error: 8.650779e-12\n",
            "numerical: 24.875623 analytic: 24.872641, relative error: 5.993084e-05\n"
          ]
        }
      ]
    },
    {
      "cell_type": "code",
      "source": [
        "#This is a more effiicent version of the naive loss function i.e no for loops\n",
        "def svm_loss_vectorized(W, X, y, reg):\n",
        "  num_train = X.shape[0]\n",
        "  scores = X.dot(W)\n",
        "  correct_class_scores = scores[np.arange(num_train), y].reshape(-1,1)\n",
        "\n",
        "  #Compute margins\n",
        "  margins = np.maximum(0, scores - correct_class_scores + 1)\n",
        "  margins[np.arange(num_train), y] = 0\n",
        "\n",
        "  loss = np.sum(margins) / num_train\n",
        "  loss += reg * np.sum(W * W)\n",
        "\n",
        "  binary = margins>0\n",
        "  coeff_matrix = binary.astype(float)\n",
        "  row_sum = np.sum(coeff_matrix, axis=1)\n",
        "  coeff_matrix[np.arange(num_train), y] = -row_sum\n",
        "  dW = X.T.dot(coeff_matrix)\n",
        "  dW /= num_train\n",
        "  dW += 2 * reg * W\n",
        "  return loss, dW\n"
      ],
      "metadata": {
        "id": "UCfUDPwgn827"
      },
      "execution_count": 25,
      "outputs": []
    },
    {
      "cell_type": "code",
      "source": [
        "# [From the stanford's notebook as well]\n",
        "# Complete the implementation of svm_loss_vectorized, and compute the gradient\n",
        "# of the loss function in a vectorized way.\n",
        "\n",
        "# The naive implementation and the vectorized implementation should match, but\n",
        "# the vectorized version should still be much faster.\n",
        "import time\n",
        "tic = time.time()\n",
        "_, grad_naive = svm_loss_naive(W, X_dev, y_dev, 0.000005)\n",
        "toc = time.time()\n",
        "print('Naive loss and gradient: computed in %fs' % (toc - tic ))\n",
        "\n",
        "tic = time.time()\n",
        "_, grad_vectorized = svm_loss_vectorized(W, X_dev, y_dev, 0.000005)\n",
        "toc = time.time()\n",
        "print('Vectorized loss and gradient: computed in %fs' % (toc - tic))\n",
        "\n",
        "# The loss is a single number, so it is easy to compare the values computed\n",
        "# by the two implementations. The gradient on the other hand is a matrix, so\n",
        "# we use the Frobenius norm to compare them.\n",
        "difference = np.linalg.norm(grad_naive - grad_vectorized, ord='fro')\n",
        "print('difference: %f' % difference)"
      ],
      "metadata": {
        "colab": {
          "base_uri": "https://localhost:8080/"
        },
        "id": "j1jPf8q0z3tE",
        "outputId": "308d06c0-4587-49c5-b3ce-e85467976c7e"
      },
      "execution_count": 26,
      "outputs": [
        {
          "output_type": "stream",
          "name": "stdout",
          "text": [
            "Naive loss and gradient: computed in 0.073763s\n",
            "Vectorized loss and gradient: computed in 0.011533s\n",
            "difference: 0.000000\n"
          ]
        }
      ]
    },
    {
      "cell_type": "markdown",
      "source": [
        "# This shows how efficient the vectorized loss is. It is greater than x5 faster."
      ],
      "metadata": {
        "id": "LESp5ANB0PMj"
      }
    },
    {
      "cell_type": "markdown",
      "source": [
        "# The linear classifier"
      ],
      "metadata": {
        "id": "uNxUYPnD1FRF"
      }
    },
    {
      "cell_type": "code",
      "source": [
        "class LinearClassifier:\n",
        "  def __init__(self):\n",
        "    self.W = None #weights would be initialized during training\n",
        "\n",
        "  def train(self, X, y, learning_rate=1e-3, reg=1e-5, num_iters=100, batch_size=200, verbose=False):\n",
        "    num_train, dim = X.shape\n",
        "    num_classes = np.max(y) + 1\n",
        "\n",
        "    if self.W is None:\n",
        "      self.W = 0.001 * np.random.randn(dim, num_classes)\n",
        "\n",
        "    loss_history = []\n",
        "    for it in range(num_iters):\n",
        "      batch_indices = np.random.choice(num_train, batch_size)\n",
        "      X_batch = X[batch_indices]\n",
        "      y_batch = y[batch_indices]\n",
        "\n",
        "      loss, grad = self.loss(self.W, X_batch, y_batch, reg)\n",
        "      loss_history.append(loss)\n",
        "\n",
        "      self.W -= learning_rate * grad\n",
        "\n",
        "      if verbose and it%100 ==0:\n",
        "        print(f'iteration {it} / {num_iters}: loss {loss}')\n",
        "    return loss_history\n",
        "\n",
        "  def predict(self, X):\n",
        "    y_pred = np.zeros(X.shape[0])\n",
        "    scores = X.dot(self.W)\n",
        "    y_pred = np.argmax(scores, axis=1)\n",
        "    return y_pred\n",
        "\n",
        "class LinearSVM(LinearClassifier):\n",
        "  def loss(self, W, X, y, reg):\n",
        "    return svm_loss_vectorized(W, X, y, reg)\n"
      ],
      "metadata": {
        "id": "Uhf5P-nf0dHV"
      },
      "execution_count": 31,
      "outputs": []
    },
    {
      "cell_type": "code",
      "source": [
        "svm = LinearSVM()\n",
        "\n",
        "import time\n",
        "tic = time.time()\n",
        "loss_hist = svm.train(X_train, y_train,\n",
        "                      learning_rate=1e-7,\n",
        "                      reg=2.5e4,\n",
        "                      num_iters=1500,\n",
        "                      verbose=True)\n",
        "toc = time.time()\n",
        "\n",
        "print('That took %fs' % (toc - tic))"
      ],
      "metadata": {
        "colab": {
          "base_uri": "https://localhost:8080/"
        },
        "id": "SLrf9bLk3gIn",
        "outputId": "b9dec75a-5f0c-45b5-d8f6-980b5eb5866f"
      },
      "execution_count": 32,
      "outputs": [
        {
          "output_type": "stream",
          "name": "stdout",
          "text": [
            "iteration 0 / 1500: loss 777.3409153772079\n",
            "iteration 100 / 1500: loss 285.3510467245484\n",
            "iteration 200 / 1500: loss 107.31653894085318\n",
            "iteration 300 / 1500: loss 42.65733711120323\n",
            "iteration 400 / 1500: loss 18.57475436778202\n",
            "iteration 500 / 1500: loss 10.44585487694714\n",
            "iteration 600 / 1500: loss 7.065453079930159\n",
            "iteration 700 / 1500: loss 6.0764124031227285\n",
            "iteration 800 / 1500: loss 5.621738860948532\n",
            "iteration 900 / 1500: loss 5.463260318202888\n",
            "iteration 1000 / 1500: loss 5.438937999065662\n",
            "iteration 1100 / 1500: loss 5.049883854618588\n",
            "iteration 1200 / 1500: loss 5.129963446311357\n",
            "iteration 1300 / 1500: loss 4.793178393856512\n",
            "iteration 1400 / 1500: loss 5.263543914086811\n",
            "That took 11.337317s\n"
          ]
        }
      ]
    },
    {
      "cell_type": "code",
      "source": [
        "# A useful debugging strategy is to plot the loss as a function of\n",
        "# iteration number:\n",
        "plt.plot(loss_hist)\n",
        "plt.xlabel('Iteration number')\n",
        "plt.ylabel('Loss value')\n",
        "plt.show()"
      ],
      "metadata": {
        "colab": {
          "base_uri": "https://localhost:8080/",
          "height": 696
        },
        "id": "dQBwyve44DQP",
        "outputId": "ba7ae7f9-219c-434f-ff89-5c632592e0d6"
      },
      "execution_count": 33,
      "outputs": [
        {
          "output_type": "display_data",
          "data": {
            "text/plain": [
              "<Figure size 1000x800 with 1 Axes>"
            ],
            "image/png": "[encoded data removed]"
          },
          "metadata": {}
        }
      ]
    },
    {
      "cell_type": "code",
      "source": [
        "# Write the LinearSVM.predict function and evaluate the performance on both the\n",
        "# training and validation set\n",
        "y_train_pred = svm.predict(X_train)\n",
        "print('training accuracy: %f' % (np.mean(y_train == y_train_pred), ))\n",
        "y_val_pred = svm.predict(X_val)\n",
        "print('validation accuracy: %f' % (np.mean(y_val == y_val_pred), ))"
      ],
      "metadata": {
        "colab": {
          "base_uri": "https://localhost:8080/"
        },
        "id": "ex1rG0SK4JMW",
        "outputId": "7e7c6d94-cf5c-471e-f905-4e3af520b532"
      },
      "execution_count": 34,
      "outputs": [
        {
          "output_type": "stream",
          "name": "stdout",
          "text": [
            "training accuracy: 0.371020\n",
            "validation accuracy: 0.358000\n"
          ]
        }
      ]
    },
    {
      "cell_type": "code",
      "source": [
        "results = {}\n",
        "best_val = -1   # The highest validation accuracy that we have seen so far.\n",
        "best_svm = None # The LinearSVM object that achieved the highest validation rate.\n",
        "\n",
        "# Note: you may see runtime/overflow warnings during hyper-parameter search.\n",
        "# This may be caused by extreme values, and is not a bug.\n",
        "\n",
        "learning_rates = [1e-8, 1e-7, 5e-5]\n",
        "regularization_strengths = [1.5e4, 2.5e4, 5e4]\n",
        "\n",
        "\n",
        "for lr in learning_rates:\n",
        "    for reg in regularization_strengths:\n",
        "        svm = LinearSVM()\n",
        "        svm.train(X_train, y_train, learning_rate=lr, reg=reg, num_iters=1500, verbose=False)\n",
        "\n",
        "        y_train_pred = svm.predict(X_train)\n",
        "        train_accuracy = np.mean(y_train == y_train_pred)\n",
        "\n",
        "        y_val_pred = svm.predict(X_val)\n",
        "        val_accuracy = np.mean(y_val == y_val_pred)\n",
        "\n",
        "        results[(lr, reg)] = (train_accuracy, val_accuracy)\n",
        "\n",
        "        if val_accuracy > best_val:\n",
        "            best_val = val_accuracy\n",
        "            best_svm = svm\n",
        "\n",
        "\n",
        "# Print out results.\n",
        "for lr, reg in sorted(results):\n",
        "    train_accuracy, val_accuracy = results[(lr, reg)]\n",
        "    print('lr %e reg %e train accuracy: %f val accuracy: %f' % (\n",
        "                lr, reg, train_accuracy, val_accuracy))\n",
        "\n",
        "print('best validation accuracy achieved during cross-validation: %f' % best_val)"
      ],
      "metadata": {
        "colab": {
          "base_uri": "https://localhost:8080/"
        },
        "id": "AdHVROI_4TNk",
        "outputId": "4e18f1fd-79d7-44a9-ca32-c893b770671d"
      },
      "execution_count": 36,
      "outputs": [
        {
          "output_type": "stream",
          "name": "stderr",
          "text": [
            "<ipython-input-25-db61f1bc25dc>:12: RuntimeWarning: overflow encountered in scalar multiply\n",
            "  loss += reg * np.sum(W * W)\n",
            "/usr/local/lib/python3.11/dist-packages/numpy/_core/fromnumeric.py:86: RuntimeWarning: overflow encountered in reduce\n",
            "  return ufunc.reduce(obj, axis, dtype, out, **passkwargs)\n",
            "<ipython-input-25-db61f1bc25dc>:12: RuntimeWarning: overflow encountered in multiply\n",
            "  loss += reg * np.sum(W * W)\n",
            "<ipython-input-25-db61f1bc25dc>:20: RuntimeWarning: overflow encountered in multiply\n",
            "  dW += 2 * reg * W\n",
            "<ipython-input-31-8761bcc8215c>:21: RuntimeWarning: invalid value encountered in subtract\n",
            "  self.W -= learning_rate * grad\n"
          ]
        },
        {
          "output_type": "stream",
          "name": "stdout",
          "text": [
            "lr 1.000000e-08 reg 1.500000e+04 train accuracy: 0.238776 val accuracy: 0.238000\n",
            "lr 1.000000e-08 reg 2.500000e+04 train accuracy: 0.257102 val accuracy: 0.259000\n",
            "lr 1.000000e-08 reg 5.000000e+04 train accuracy: 0.304245 val accuracy: 0.309000\n",
            "lr 1.000000e-07 reg 1.500000e+04 train accuracy: 0.378816 val accuracy: 0.373000\n",
            "lr 1.000000e-07 reg 2.500000e+04 train accuracy: 0.375000 val accuracy: 0.375000\n",
            "lr 1.000000e-07 reg 5.000000e+04 train accuracy: 0.355347 val accuracy: 0.355000\n",
            "lr 5.000000e-05 reg 1.500000e+04 train accuracy: 0.156347 val accuracy: 0.170000\n",
            "lr 5.000000e-05 reg 2.500000e+04 train accuracy: 0.057755 val accuracy: 0.056000\n",
            "lr 5.000000e-05 reg 5.000000e+04 train accuracy: 0.100265 val accuracy: 0.103000\n",
            "best validation accuracy achieved during cross-validation: 0.375000\n"
          ]
        }
      ]
    },
    {
      "cell_type": "code",
      "source": [
        "# Evaluate the best svm on test set\n",
        "y_test_pred = best_svm.predict(X_test)\n",
        "test_accuracy = np.mean(y_test == y_test_pred)\n",
        "print('linear SVM on raw pixels final test set accuracy: %f' % test_accuracy)"
      ],
      "metadata": {
        "colab": {
          "base_uri": "https://localhost:8080/"
        },
        "id": "x1k8AZbg4oR2",
        "outputId": "b0263b85-f8ca-46f3-8f64-b495e7dc4c16"
      },
      "execution_count": 37,
      "outputs": [
        {
          "output_type": "stream",
          "name": "stdout",
          "text": [
            "linear SVM on raw pixels final test set accuracy: 0.370000\n"
          ]
        }
      ]
    },
    {
      "cell_type": "code",
      "source": [
        "# Visualize the learned weights for each class.\n",
        "# Depending on your choice of learning rate and regularization strength, these may\n",
        "# or may not be nice to look at.\n",
        "w = best_svm.W[:-1,:] # strip out the bias\n",
        "w = w.reshape(32, 32, 3, 10)\n",
        "w_min, w_max = np.min(w), np.max(w)\n",
        "classes = ['plane', 'car', 'bird', 'cat', 'deer', 'dog', 'frog', 'horse', 'ship', 'truck']\n",
        "for i in range(10):\n",
        "    plt.subplot(2, 5, i + 1)\n",
        "\n",
        "    # Rescale the weights to be between 0 and 255\n",
        "    wimg = 255.0 * (w[:, :, :, i].squeeze() - w_min) / (w_max - w_min)\n",
        "    plt.imshow(wimg.astype('uint8'))\n",
        "    plt.axis('off')\n",
        "    plt.title(classes[i])"
      ],
      "metadata": {
        "colab": {
          "base_uri": "https://localhost:8080/",
          "height": 528
        },
        "id": "_jynsulm4ovN",
        "outputId": "dc0599b5-f511-478a-ab91-40e64de2582d"
      },
      "execution_count": 38,
      "outputs": [
        {
          "output_type": "display_data",
          "data": {
            "text/plain": [
              "<Figure size 1000x800 with 10 Axes>"
            ],
            "image/png": "[encoded data removed]"
          },
          "metadata": {}
        }
      ]
    }
  ]
}
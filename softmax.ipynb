{
  "nbformat": 4,
  "nbformat_minor": 0,
  "metadata": {
    "colab": {
      "provenance": []
    },
    "kernelspec": {
      "name": "python3",
      "display_name": "Python 3"
    },
    "language_info": {
      "name": "python"
    }
  },
  "cells": [
    {
      "cell_type": "code",
      "execution_count": 45,
      "metadata": {
        "id": "6WRgvlDgl6C7",
        "colab": {
          "base_uri": "https://localhost:8080/"
        },
        "outputId": "23c6d1eb-56eb-4ddc-a2ed-682c0f8c6b44"
      },
      "outputs": [
        {
          "output_type": "stream",
          "name": "stdout",
          "text": [
            "Drive already mounted at /content/drive; to attempt to forcibly remount, call drive.mount(\"/content/drive\", force_remount=True).\n",
            "/content/drive/My Drive/Colab Notebooks/cs231n/assignment1/cs231n/datasets\n",
            "/content/drive/My Drive/Colab Notebooks/cs231n/assignment1\n"
          ]
        }
      ],
      "source": [
        "from google.colab import drive\n",
        "drive.mount('/content/drive')\n",
        "\n",
        "FOLDERNAME = '/Colab Notebooks/cs231n/assignment1/'\n",
        "assert FOLDERNAME is not None, \"[!] Enter the foldername.\"\n",
        "\n",
        "#this allows the colab VM to load the python files within it\n",
        "import sys\n",
        "sys.path.append('/content/drive/My Drive/{}'.format(FOLDERNAME))\n",
        "\n",
        "\n",
        "%cd /content/drive/My\\ Drive/$FOLDERNAME/cs231n/datasets/\n",
        "!bash get_datasets.sh\n",
        "%cd /content/drive/My\\ Drive/$FOLDERNAME"
      ]
    },
    {
      "cell_type": "markdown",
      "source": [
        "**Outcomes**\n",
        "\n",
        "\n",
        "1.   Implement a fully vectorized loss function for this classifier\n",
        "2.   Implement the fully-vectorized expression for its analytic gradient\n",
        "3.   Check the implementation with numerical gradient\n",
        "4.   Use a validation set to tune the learning rate and the regularization strength.\n",
        "5.   Optimize the loss function with SGD.\n",
        "6.   Visualize the learned weights\n",
        "\n"
      ],
      "metadata": {
        "id": "ILMnwlECs3zq"
      }
    },
    {
      "cell_type": "code",
      "source": [
        "import random\n",
        "import numpy as np\n",
        "from cs231n.data_utils import load_CIFAR10\n",
        "import matplotlib.pyplot as plt\n",
        "\n",
        "%matplotlib inline\n",
        "plt.rcParams['figure.figsize'] = (10.0, 8.0) # set default size of plots\n",
        "plt.rcParams['image.interpolation'] = 'nearest'\n",
        "plt.rcParams['image.cmap'] = 'gray'\n"
      ],
      "metadata": {
        "id": "LGXmhw0exd2t"
      },
      "execution_count": 46,
      "outputs": []
    },
    {
      "cell_type": "code",
      "source": [
        "def get_CIFAR10_data(num_training=49000, num_validation=1000, num_test=1000, num_dev=500):\n",
        "  #Load the CIFAR 10 dataset and perform preprocessing to prepare it for the linear classifier\n",
        "\n",
        "  cifar10_dir = 'cs231n/datasets/cifar-10-batches-py'\n",
        "\n",
        "  #Cleaning up variables\n",
        "  try:\n",
        "    del X_train, y_train\n",
        "    del X_test, y_test\n",
        "    print('Cleaned up variables')\n",
        "  except:\n",
        "    pass\n",
        "\n",
        "  X_train, y_train, X_test, y_test = load_CIFAR10(cifar10_dir)\n",
        "\n",
        "  #Subsample the data\n",
        "  mask = list(range(num_training, num_training + num_validation))\n",
        "  X_val = X_train[mask]\n",
        "  y_val = y_train[mask]\n",
        "\n",
        "  mask = list(range(num_training))\n",
        "  X_train = X_train[mask]\n",
        "  y_train = y_train[mask]\n",
        "\n",
        "  mask = list(range(num_test))\n",
        "  X_test = X_test[mask]\n",
        "  y_test = y_test[mask]\n",
        "\n",
        "  mask = np.random.choice(num_training, num_dev, replace=False)\n",
        "  X_dev = X_train[mask]\n",
        "  y_dev = y_train[mask]\n",
        "\n",
        "  #Preprocess; reshape the input data into rows\n",
        "  X_train = np.reshape(X_train, (X_train.shape[0], -1))\n",
        "  X_val = np.reshape(X_val, (X_val.shape[0], -1))\n",
        "  X_test = np.reshape(X_test, (X_test.shape[0], -1))\n",
        "  X_dev = np.reshape(X_dev, (X_dev.shape[0], -1))\n",
        "\n",
        "  #normalize the data; subtract the mean image\n",
        "  mean_image = np.mean(X_train, axis=0),\n",
        "  X_train -= mean_image\n",
        "  X_val -= mean_image\n",
        "  X_test -= mean_image\n",
        "  X_dev -= mean_image\n",
        "\n",
        "  #Add the bias dimension and transform into columns\n",
        "  X_train = np.hstack([X_train, np.ones((X_train.shape[0], 1))])\n",
        "  X_val = np.hstack([X_val, np.ones((X_val.shape[0], 1))])\n",
        "  X_test = np.hstack([X_test, np.ones((X_test.shape[0], 1))])\n",
        "  X_dev = np.hstack([X_dev, np.ones((X_dev.shape[0], 1))])\n",
        "\n",
        "  return X_train, y_train, X_val, y_val, X_test, y_test, X_dev, y_dev\n",
        "\n",
        "# Use the above function to get our data.\n",
        "X_train, y_train, X_val, y_val, X_test, y_test, X_dev, y_dev = get_CIFAR10_data()\n",
        "print('Train data shape: ', X_train.shape)\n",
        "print('Train labels shape: ', y_train.shape)\n",
        "print('Validation data shape: ', X_val.shape)\n",
        "print('Validation labels shape: ', y_val.shape)\n",
        "print('Test data shape: ', X_test.shape)\n",
        "print('Test labels shape: ', y_test.shape)\n",
        "print('dev data shape: ', X_dev.shape)\n",
        "print('dev labels shape: ', y_dev.shape)\n"
      ],
      "metadata": {
        "colab": {
          "base_uri": "https://localhost:8080/"
        },
        "id": "7ehqre9-QWyA",
        "outputId": "bb56dc07-7121-4619-b41f-c37d403cc332"
      },
      "execution_count": 47,
      "outputs": [
        {
          "output_type": "stream",
          "name": "stdout",
          "text": [
            "Train data shape:  (49000, 3073)\n",
            "Train labels shape:  (49000,)\n",
            "Validation data shape:  (1000, 3073)\n",
            "Validation labels shape:  (1000,)\n",
            "Test data shape:  (1000, 3073)\n",
            "Test labels shape:  (1000,)\n",
            "dev data shape:  (500, 3073)\n",
            "dev labels shape:  (500,)\n"
          ]
        }
      ]
    },
    {
      "cell_type": "markdown",
      "source": [
        "# Softmax Classifier"
      ],
      "metadata": {
        "id": "9N3P_0QsUjIk"
      }
    },
    {
      "cell_type": "code",
      "source": [
        "input_dims = X_train.shape[1]\n",
        "num_classes = 10\n",
        "W = 0.001 * np.random.randn(input_dims, num_classes)"
      ],
      "metadata": {
        "id": "R2XMAOQ1UixP"
      },
      "execution_count": 48,
      "outputs": []
    },
    {
      "cell_type": "code",
      "source": [
        "def softmax_loss_vectorized(W, X, y, reg):\n",
        "  scores = X.dot(W)\n",
        "  scores -= np.max(scores, axis=1, keepdims=True)\n",
        "\n",
        "  probs = np.exp(scores) / np.sum(np.exp(scores), axis=1, keepdims=True)\n",
        "\n",
        "  N = X.shape[0]\n",
        "  correct_logprobs = -np.log(probs[np.arange(N), y] + 1e-15)\n",
        "  loss = np.sum(correct_logprobs) /N\n",
        "  loss += 0.5 * reg * np.sum(W * W)\n",
        "\n",
        "  dscores = probs\n",
        "  dscores[np.arange(N), y] -= 1\n",
        "  dW = X.T.dot(dscores)/N\n",
        "  dW += reg * W\n",
        "\n",
        "  return loss, dW"
      ],
      "metadata": {
        "id": "J_xNIk4PUOoY"
      },
      "execution_count": 49,
      "outputs": []
    },
    {
      "cell_type": "markdown",
      "source": [
        "**Train with SGD**"
      ],
      "metadata": {
        "id": "BYfSqhiGECLD"
      }
    },
    {
      "cell_type": "code",
      "source": [
        "def train_softmax(X, y, X_val, y_val, learning_rate=1e-7, reg=4e4, num_iters=1800, batch_size=200, verbose=True):\n",
        "  num_train, dim = X.shape\n",
        "  num_classes = np.max(y) + 1\n",
        "  W = 0.001 * np.random.randn(dim, num_classes)\n",
        "  loss_history = []\n",
        "\n",
        "  for it in range(num_iters):\n",
        "    batch_indices = np.random.choice(num_train, batch_size)\n",
        "    X_batch = X[batch_indices]\n",
        "    y_batch = y[batch_indices]\n",
        "\n",
        "    loss, grad = softmax_loss_vectorized(W, X_batch, y_batch, reg)\n",
        "    loss_history.append(loss)\n",
        "    W -= learning_rate * grad\n",
        "\n",
        "    if verbose:\n",
        "      if it % 100==0:\n",
        "        print(f'At iteration{it}/{num_iters}, the loss is{loss}')\n",
        "\n",
        "  return W, loss_history"
      ],
      "metadata": {
        "id": "0nHmwhZ9B13i"
      },
      "execution_count": 50,
      "outputs": []
    },
    {
      "cell_type": "markdown",
      "source": [
        "**Train and Evaluate**"
      ],
      "metadata": {
        "id": "sMnUB8hXJvrK"
      }
    },
    {
      "cell_type": "code",
      "source": [
        "W_trained, loss_history = train_softmax(X_train, y_train, X_val, y_val)\n",
        "\n",
        "def predict(X, W):\n",
        "  scores = X.dot(W)\n",
        "  y_pred = np.argmax(scores, axis=1)\n",
        "  return y_pred\n",
        "\n",
        "#training accuracy\n",
        "y_train_pred = predict(X_train, W_trained)\n",
        "print('Training accuracy: ', np.mean(y_train == y_train_pred))\n",
        "\n",
        "#validation accuracy\n",
        "y_val_pred = predict(X_val, W_trained)\n",
        "print('Validation accuracy: ', np.mean(y_val == y_val_pred))"
      ],
      "metadata": {
        "colab": {
          "base_uri": "https://localhost:8080/"
        },
        "id": "QOjCJV98JvDw",
        "outputId": "3e82ec82-80a8-4566-d06e-8cde6d05853e"
      },
      "execution_count": 51,
      "outputs": [
        {
          "output_type": "stream",
          "name": "stdout",
          "text": [
            "At iteration0/1800, the loss is619.3242027307354\n",
            "At iteration100/1800, the loss is278.11744693659404\n",
            "At iteration200/1800, the loss is125.43140233864341\n",
            "At iteration300/1800, the loss is57.37234593958555\n",
            "At iteration400/1800, the loss is26.776554544194937\n",
            "At iteration500/1800, the loss is13.113497486776591\n",
            "At iteration600/1800, the loss is6.989054838166469\n",
            "At iteration700/1800, the loss is4.240084377172511\n",
            "At iteration800/1800, the loss is3.0746693183382012\n",
            "At iteration900/1800, the loss is2.511121308284866\n",
            "At iteration1000/1800, the loss is2.317120241705937\n",
            "At iteration1100/1800, the loss is2.1454454288757256\n",
            "At iteration1200/1800, the loss is2.094114046115269\n",
            "At iteration1300/1800, the loss is2.093250677695073\n",
            "At iteration1400/1800, the loss is2.095979997687928\n",
            "At iteration1500/1800, the loss is2.0842253291875426\n",
            "At iteration1600/1800, the loss is2.052891589578618\n",
            "At iteration1700/1800, the loss is2.0361610711926037\n",
            "Training accuracy:  0.33746938775510205\n",
            "Validation accuracy:  0.346\n"
          ]
        }
      ]
    },
    {
      "cell_type": "code",
      "source": [
        "learning_rates = [1e-7, 5e-7, 1e-6]\n",
        "regularization_strengths = [5e4, 4e4, 6e4]\n",
        "\n",
        "results = {}\n",
        "best_val = -1\n",
        "best_W = None\n",
        "\n",
        "for lr in learning_rates:\n",
        "    for reg in regularization_strengths:\n",
        "        print(f'Training with lr={lr}, reg={reg}')\n",
        "        W_tmp, loss_hist = train_softmax(X_train, y_train, X_val, y_val,\n",
        "                                         learning_rate=lr, reg=reg, num_iters=1500, verbose=False)\n",
        "\n",
        "        y_train_pred = predict(X_train, W_tmp)\n",
        "        train_acc = np.mean(y_train_pred == y_train)\n",
        "\n",
        "        y_val_pred = predict(X_val, W_tmp)\n",
        "        val_acc = np.mean(y_val_pred == y_val)\n",
        "\n",
        "        results[(lr, reg)] = (train_acc, val_acc)\n",
        "\n",
        "        if val_acc > best_val:\n",
        "            best_val = val_acc\n",
        "            best_W = W_tmp\n",
        "        print(f'Train acc: {train_acc:.4f}, Val acc: {val_acc:.4f}')\n",
        "\n",
        "print('\\nBest validation accuracy achieved during cross-validation: %f' % best_val)"
      ],
      "metadata": {
        "colab": {
          "base_uri": "https://localhost:8080/"
        },
        "id": "T79cZtehOBP7",
        "outputId": "f75110ba-5695-4b57-af1a-86bb69898293"
      },
      "execution_count": 52,
      "outputs": [
        {
          "output_type": "stream",
          "name": "stdout",
          "text": [
            "Training with lr=1e-07, reg=50000.0\n",
            "Train acc: 0.3327, Val acc: 0.3470\n",
            "Training with lr=1e-07, reg=40000.0\n",
            "Train acc: 0.3390, Val acc: 0.3550\n",
            "Training with lr=1e-07, reg=60000.0\n",
            "Train acc: 0.3286, Val acc: 0.3310\n",
            "Training with lr=5e-07, reg=50000.0\n",
            "Train acc: 0.3349, Val acc: 0.3480\n",
            "Training with lr=5e-07, reg=40000.0\n",
            "Train acc: 0.3319, Val acc: 0.3540\n",
            "Training with lr=5e-07, reg=60000.0\n",
            "Train acc: 0.3197, Val acc: 0.3330\n",
            "Training with lr=1e-06, reg=50000.0\n",
            "Train acc: 0.3242, Val acc: 0.3390\n",
            "Training with lr=1e-06, reg=40000.0\n",
            "Train acc: 0.3064, Val acc: 0.3260\n",
            "Training with lr=1e-06, reg=60000.0\n",
            "Train acc: 0.3147, Val acc: 0.3370\n",
            "\n",
            "Best validation accuracy achieved during cross-validation: 0.355000\n"
          ]
        }
      ]
    },
    {
      "cell_type": "markdown",
      "source": [
        "**Visualize Weights**"
      ],
      "metadata": {
        "id": "f1dRj66pKvpj"
      }
    },
    {
      "cell_type": "code",
      "source": [
        "def visualize_weights(W):\n",
        "  W = W[:-1, :] #remove bias term\n",
        "  W = W.reshape(32, 32, 3, 10)\n",
        "  W_min, W_max = np.min(W), np.max(W)\n",
        "\n",
        "  for i in range(10):\n",
        "    plt.subplot(2, 5, i+1)\n",
        "    wimg = 255.0 * (W[:, :, :, i].squeeze() - W_min)/ (W_max - W_min)\n",
        "    plt.imshow(wimg.astype('uint8'))\n",
        "    plt.axis('off')\n",
        "    plt.title(f'Class {i}')\n",
        "  plt.show()\n",
        "\n",
        "visualize_weights(W_trained)\n",
        "\n"
      ],
      "metadata": {
        "colab": {
          "base_uri": "https://localhost:8080/",
          "height": 528
        },
        "id": "zkgZyTknKzXB",
        "outputId": "01e610e0-daba-4448-8783-07f71743cfa7"
      },
      "execution_count": 53,
      "outputs": [
        {
          "output_type": "display_data",
          "data": {
            "text/plain": [
              "<Figure size 1000x800 with 10 Axes>"
            ],
            "image/png": "[encoded data removed]"
          },
          "metadata": {}
        }
      ]
    }
  ]
}